{
  "nbformat": 4,
  "nbformat_minor": 0,
  "metadata": {
    "accelerator": "GPU",
    "colab": {
      "name": "pulemb_yolov4_ctscans.ipynb",
      "provenance": [],
      "collapsed_sections": [
        "j_f0RHO_0qAm"
      ],
      "toc_visible": true,
      "mount_file_id": "19TlYTWGDqOFGU22Tf2NzZ_diGUUmH7U0",
      "authorship_tag": "ABX9TyMuXFGdSBBf8FMucA8SBvk4",
      "include_colab_link": true
    },
    "kernelspec": {
      "display_name": "Python 3",
      "name": "python3"
    },
    "language_info": {
      "name": "python"
    }
  },
  "cells": [
    {
      "cell_type": "markdown",
      "metadata": {
        "id": "view-in-github",
        "colab_type": "text"
      },
      "source": [
        "<a href=\"https://colab.research.google.com/github/chairiq/PulEmb-Covid19/blob/main/online-tool/pulemb_yolov4_ctscans.ipynb\" target=\"_parent\"><img src=\"https://colab.research.google.com/assets/colab-badge.svg\" alt=\"Open In Colab\"/></a>"
      ]
    },
    {
      "cell_type": "markdown",
      "metadata": {
        "id": "ZEeUB0rP83rw"
      },
      "source": [
        "### **Important instructions**\n",
        "\n",
        "*   Make sure that you use **GPU** runtime.\n",
        "*   Run the **first** cell (*Step 1*) only once. This may take more than **3 minutes** to load and prepare models and algorithms.\n",
        "*   With the **second** cell (*Step 2*) you can predict images for **pulmonary embolism** by uploading them to the system. Classification (**Yes:** \\{\\%\\}, **No:** \\{\\%\\}) with MobileNetV2 val_acc = 91% and Object detection with YOLOv4 mAP@50=68%.\n",
        "*   You can upload multiple CTPA-Scan images at once, which may provide better overall view\n",
        "---\n",
        "### **Disclaimer**\n",
        "*   **This online decision support system should be used for research purposes only**"
      ]
    },
    {
      "cell_type": "markdown",
      "metadata": {
        "id": "j_f0RHO_0qAm"
      },
      "source": [
        "## **Step 1: Load and prepare models and algorithms**"
      ]
    },
    {
      "cell_type": "code",
      "metadata": {
        "id": "t35LPMxv5BsO",
        "colab": {
          "base_uri": "https://localhost:8080/"
        },
        "outputId": "6f1d8fef-150e-42eb-b2dd-e695c01091a6"
      },
      "source": [
        "from google_drive_downloader import GoogleDriveDownloader as gdd\n",
        "model_id = \"1yFO1xpaecBCSvr6TSQWTmtTAD-8x2k9e\"\n",
        "gdd.download_file_from_google_drive(file_id=model_id, dest_path='/content/shared_data.zip', unzip=True)\n",
        "! mv shared_data/init_system.sh shared_data/sup_code.py /content/ ; sh init_system.sh\n",
        "\n",
        "from IPython.display import clear_output \n",
        "from sup_code import upload, imShow, load_libs, pred_img\n",
        "load_libs()\n",
        "clear_output()\n",
        "%matplotlib inline \n",
        "%cd darknet\n",
        "def pred_images(imgs,thresh_=0.6, clf_= True):\n",
        "  import os \n",
        "  for img in imgs:\n",
        "    !./darknet detector test data/ctscans.data cfg/yolov4-ctscans.cfg data/yolov4-ctscans_best.weights {img} -thresh {thresh_}\n",
        "    os.rename(r'predictions.jpg',r'pred_'+img) \n",
        "    clear_output()\n",
        "  for img2 in imgs:\n",
        "    print('____________________________'+str(img2)+'_______________________________________')\n",
        "    if clf_:\n",
        "      pred_img(img2)\n",
        "      print(\"-----------------------------------------------\") \n",
        "    print(\"Localization of Pulmonary Embolism with YOLOv4:\") \n",
        "    imShow(\"pred_\"+img2)\n",
        "    print('________________________________________________________________________________') "
      ],
      "execution_count": 1,
      "outputs": [
        {
          "output_type": "stream",
          "text": [
            "/content/darknet\n"
          ],
          "name": "stdout"
        }
      ]
    },
    {
      "cell_type": "markdown",
      "metadata": {
        "id": "o37gwEJ_vkjz"
      },
      "source": [
        "## **Step 2: Inference**\n",
        "*$^{*}$JPG images, suggested.*"
      ]
    },
    {
      "cell_type": "code",
      "metadata": {
        "id": "xJ8FK0pl5UPe"
      },
      "source": [
        "thresh = 0.6 # This is the confidence threshold for the object detection\n",
        "clf = True # Calssification of the image (Yes: {%}, No: {%})\n",
        "pred_images(upload(), thresh, clf)"
      ],
      "execution_count": null,
      "outputs": []
    },
    {
      "cell_type": "markdown",
      "metadata": {
        "id": "r8zxUoZesBSH"
      },
      "source": [
        "## **Please cite this work as:**\n",
        "\n",
        "Kiourt C., Feretzakis G., Dalamarinis K., Kalles D., Pantos G., Papadopoulos I., Kouris S., Ioannakis G., Loupelis E. and Sakagianni A, (2021), **Pulmonary embolism identification in computerized tomography pulmonary angiography scans with deep learning technologies in COVID-19 patients**,  ............"
      ]
    }
  ]
}